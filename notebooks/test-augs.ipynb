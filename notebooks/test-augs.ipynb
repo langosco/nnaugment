{
 "cells": [
  {
   "cell_type": "code",
   "execution_count": 1,
   "metadata": {},
   "outputs": [
    {
     "name": "stderr",
     "output_type": "stream",
     "text": [
      "/home/lauro/.virtualenvs/meta-models/lib/python3.8/site-packages/tqdm/auto.py:21: TqdmWarning: IProgress not found. Please update jupyter and ipywidgets. See https://ipywidgets.readthedocs.io/en/stable/user_install.html\n",
      "  from .autonotebook import tqdm as notebook_tqdm\n"
     ]
    }
   ],
   "source": [
    "import os\n",
    "import jax\n",
    "from jax import random\n",
    "import jax.numpy as jnp\n",
    "import numpy as np\n",
    "from meta_transformer import torch_utils, module_path, on_cluster\n",
    "import flax.linen as nn\n",
    "from jax import random\n",
    "import nnaugment\n",
    "from nnaugment.conventions import import_params, export_params\n",
    "rng = random.PRNGKey(42)\n",
    "\n",
    "import torch"
   ]
  },
  {
   "cell_type": "markdown",
   "metadata": {},
   "source": [
    "## Load pytorch nets"
   ]
  },
  {
   "cell_type": "code",
   "execution_count": 2,
   "metadata": {},
   "outputs": [
    {
     "name": "stderr",
     "output_type": "stream",
     "text": [
      "/home/lauro/.virtualenvs/meta-models/lib/python3.8/site-packages/einops/parsing.py:136: RuntimeWarning: It is discouraged to use axes names that are keywords: in\n",
      "  warnings.warn(\"It is discouraged to use axes names that are keywords: {}\".format(name), RuntimeWarning)\n"
     ]
    }
   ],
   "source": [
    "if not on_cluster:\n",
    "    # dpath = os.path.join(module_path, \"data/david_backdoors\")  # local\n",
    "    # use for testing with small dataset sizes (only works if rds storage is mounted):\n",
    "    dpath = os.path.join(module_path, \"/home/lauro/rds/model-zoo/\")\n",
    "else:\n",
    "    dpath = \"/rds/user/lsl38/rds-dsk-lab-eWkDxBhxBrQ/model-zoo/\"  \n",
    "\n",
    "model_dataset_paths = {\n",
    "    \"mnist\": \"mnist-cnns\",\n",
    "    \"cifar10\": \"cifar10\",\n",
    "    \"svhn\": \"svhn\",\n",
    "}\n",
    "\n",
    "\n",
    "model_dataset_paths = {\n",
    "    k: os.path.join(dpath, v) for k, v in model_dataset_paths.items()\n",
    "}\n",
    "\n",
    "\n",
    "inputs, targets, get_pytorch_model = torch_utils.load_input_and_target_weights(\n",
    "    model=torch_utils.CNNMedium(),\n",
    "    num_models=10,\n",
    "    data_dir=model_dataset_paths[\"cifar10\"],\n",
    "    inputs_dirname=\"poison_noL1\",\n",
    "    targets_dirname=\"clean\",\n",
    ")\n",
    "\n",
    "param_list = [import_params(p, from_naming_scheme=\"pytorch\") for p in inputs]\n",
    "params = param_list[0]"
   ]
  },
  {
   "cell_type": "code",
   "execution_count": 6,
   "metadata": {},
   "outputs": [],
   "source": [
    "augmented_params = nnaugment.random_permutation(\n",
    "    params,\n",
    "    layers_to_permute=[f'Conv2d_{i}' for i in range(6)] + ['Dense_6'],\n",
    ")"
   ]
  },
  {
   "cell_type": "code",
   "execution_count": 15,
   "metadata": {},
   "outputs": [],
   "source": [
    "model = get_pytorch_model(export_params(params))\n",
    "model.eval()\n",
    "perm_model = get_pytorch_model(export_params(augmented_params))\n",
    "perm_model.eval()\n",
    "\n",
    "batch_size = 5\n",
    "input_tensor = torch.randn(batch_size, 3, 32, 32)\n",
    "\n",
    "# Feed the tensor to the model\n",
    "with torch.no_grad():\n",
    "    output = model(input_tensor)\n",
    "    perm_output = perm_model(input_tensor)\n",
    "    assert torch.allclose(output, perm_output, atol=1e-6, rtol=1e-3), \"Outputs differ after weight augmentation.\""
   ]
  },
  {
   "cell_type": "markdown",
   "metadata": {},
   "source": [
    "# Test stuff"
   ]
  },
  {
   "cell_type": "code",
   "execution_count": 15,
   "metadata": {},
   "outputs": [],
   "source": [
    "np.set_printoptions(precision=2, suppress=True)\n",
    "\n",
    "\n",
    "def print_compact_4d(arr):\n",
    "    # Convert array to string\n",
    "    arr_str = str(arr)\n",
    "    \n",
    "    # Replace multiple line breaks\n",
    "    compact_str = arr_str.replace(\"\\n\\n\\n\", \"\\n---\\n\")\n",
    "#    compact_str = compact_str.replace(\"\\n\\n\", \"\\n\")\n",
    "    \n",
    "    # Print the compact string\n",
    "    print(compact_str)\n",
    "\n",
    "\n",
    "def print_params(variables):\n",
    "    for name, layer in variables['params'].items():\n",
    "        print(name)\n",
    "        print(\"w:\")\n",
    "        print_compact_4d(layer[\"kernel\"])\n",
    "        print()\n",
    "        print(\"b:\")\n",
    "        print(layer[\"bias\"])\n",
    "        print(\"\\n====\\n\")"
   ]
  },
  {
   "cell_type": "code",
   "execution_count": 16,
   "metadata": {},
   "outputs": [
    {
     "data": {
      "text/plain": [
       "array([3, 1, 2, 6, 4, 5, 9, 7, 8])"
      ]
     },
     "execution_count": 16,
     "metadata": {},
     "output_type": "execute_result"
    }
   ],
   "source": [
    "arr = np.array([3,1,2])\n",
    "arr = np.concatenate([arr + len(arr) * i for i in range(3)])\n",
    "arr"
   ]
  },
  {
   "cell_type": "code",
   "execution_count": 17,
   "metadata": {},
   "outputs": [
    {
     "ename": "NameError",
     "evalue": "name 'variables' is not defined",
     "output_type": "error",
     "traceback": [
      "\u001b[0;31m---------------------------------------------------------------------------\u001b[0m",
      "\u001b[0;31mNameError\u001b[0m                                 Traceback (most recent call last)",
      "Cell \u001b[0;32mIn[17], line 1\u001b[0m\n\u001b[0;32m----> 1\u001b[0m print_params(variables)\n\u001b[1;32m      3\u001b[0m \u001b[39mprint\u001b[39m()\n\u001b[1;32m      4\u001b[0m \u001b[39mprint\u001b[39m(\u001b[39m\"\u001b[39m\u001b[39mCompare to augmented params:\u001b[39m\u001b[39m\"\u001b[39m)\n",
      "\u001b[0;31mNameError\u001b[0m: name 'variables' is not defined"
     ]
    }
   ],
   "source": [
    "print_params(variables)\n",
    "\n",
    "print()\n",
    "print(\"Compare to augmented params:\")\n",
    "print_params(augmented_variables)"
   ]
  },
  {
   "cell_type": "code",
   "execution_count": null,
   "metadata": {},
   "outputs": [
    {
     "data": {
      "text/plain": [
       "Array([-0.03], dtype=float32)"
      ]
     },
     "execution_count": 10,
     "metadata": {},
     "output_type": "execute_result"
    }
   ],
   "source": [
    "initial_output"
   ]
  },
  {
   "cell_type": "code",
   "execution_count": null,
   "metadata": {},
   "outputs": [
    {
     "data": {
      "text/plain": [
       "Array([-0.03], dtype=float32)"
      ]
     },
     "execution_count": 11,
     "metadata": {},
     "output_type": "execute_result"
    }
   ],
   "source": [
    "augmented_output"
   ]
  },
  {
   "cell_type": "code",
   "execution_count": null,
   "metadata": {},
   "outputs": [
    {
     "data": {
      "text/plain": [
       "array([0.], dtype=float32)"
      ]
     },
     "execution_count": 12,
     "metadata": {},
     "output_type": "execute_result"
    }
   ],
   "source": [
    "np.abs(initial_output - augmented_output)"
   ]
  }
 ],
 "metadata": {
  "kernelspec": {
   "display_name": "meta-models",
   "language": "python",
   "name": "python3"
  },
  "language_info": {
   "codemirror_mode": {
    "name": "ipython",
    "version": 3
   },
   "file_extension": ".py",
   "mimetype": "text/x-python",
   "name": "python",
   "nbconvert_exporter": "python",
   "pygments_lexer": "ipython3",
   "version": "3.8.10"
  },
  "orig_nbformat": 4
 },
 "nbformat": 4,
 "nbformat_minor": 2
}
